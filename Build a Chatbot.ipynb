{
 "cells": [
  {
   "cell_type": "markdown",
   "id": "f9b8cbb9",
   "metadata": {},
   "source": [
    "# Build a Simple Chatbot from Scratch in Python using NLTK\n",
    "\n",
    "Create a very basic chatbot utlising the Python's NLTK library.It's a very simple bot with hardly any cognitive skills,but it is a good way to get into NLP and get to know about chatbots.\n",
    "\n",
    "## Natural Language Processing (NLP)\n",
    "Natural language processing is a way for computers to analyze, understand and derive meaning from human language in a smart and useful way. By utilizing NLP, developers can organize and structure knowledge to perform tasks such as automatic summarization, translation, named entity recognition and so on."
   ]
  },
  {
   "cell_type": "markdown",
   "id": "a53acd37",
   "metadata": {},
   "source": [
    "## Import necessary libraries"
   ]
  },
  {
   "cell_type": "code",
   "execution_count": 1,
   "id": "50affd4a",
   "metadata": {},
   "outputs": [],
   "source": [
    "import io\n",
    "import random\n",
    "import string #to process standard python strings\n",
    "import warnings\n",
    "import numpy as np\n",
    "from sklearn.feature_extraction.text import TfidfVectorizer\n",
    "from sklearn.metrics.pairwise import cosine_similarity\n",
    "import warnings\n",
    "warnings.filterwarnings('ignore')"
   ]
  },
  {
   "cell_type": "markdown",
   "id": "dbde7a2b",
   "metadata": {},
   "source": [
    "## Download and Install Natural Language Toolkit (NLTK)\n",
    "Natural Language Toolkit is a leading platform for building Python programs to work with human language data."
   ]
  },
  {
   "cell_type": "code",
   "execution_count": 2,
   "id": "bac207cc",
   "metadata": {},
   "outputs": [
    {
     "name": "stdout",
     "output_type": "stream",
     "text": [
      "Requirement already satisfied: nltk in /Users/okguser/anaconda3/lib/python3.11/site-packages (3.8.1)\n",
      "Requirement already satisfied: click in /Users/okguser/anaconda3/lib/python3.11/site-packages (from nltk) (8.0.4)\n",
      "Requirement already satisfied: joblib in /Users/okguser/anaconda3/lib/python3.11/site-packages (from nltk) (1.2.0)\n",
      "Requirement already satisfied: regex>=2021.8.3 in /Users/okguser/anaconda3/lib/python3.11/site-packages (from nltk) (2022.7.9)\n",
      "Requirement already satisfied: tqdm in /Users/okguser/anaconda3/lib/python3.11/site-packages (from nltk) (4.65.0)\n",
      "Note: you may need to restart the kernel to use updated packages.\n"
     ]
    }
   ],
   "source": [
    "pip install nltk"
   ]
  },
  {
   "cell_type": "code",
   "execution_count": 3,
   "id": "0a7d9926",
   "metadata": {},
   "outputs": [
    {
     "name": "stderr",
     "output_type": "stream",
     "text": [
      "[nltk_data] Downloading package punkt to /Users/okguser/nltk_data...\n",
      "[nltk_data]   Package punkt is already up-to-date!\n",
      "[nltk_data] Downloading package wordnet to /Users/okguser/nltk_data...\n",
      "[nltk_data]   Package wordnet is already up-to-date!\n"
     ]
    },
    {
     "data": {
      "text/plain": [
       "True"
      ]
     },
     "execution_count": 3,
     "metadata": {},
     "output_type": "execute_result"
    }
   ],
   "source": [
    "import nltk\n",
    "from nltk.stem import WordNetLemmatizer\n",
    "nltk.download('popular', quiet=True) # for downloading packages\n",
    "#nltk.download('punkt') # first-time use only\n",
    "#nltk.download('wordnet') # first-time use only"
   ]
  },
  {
   "cell_type": "markdown",
   "id": "2b7c4230",
   "metadata": {},
   "source": [
    "## Reading in a collection of written texts\n",
    "Use the Wikipedia page for chatbots. Copy the contents from the page and place it in a text file name 'chatbox.txt'."
   ]
  },
  {
   "cell_type": "code",
   "execution_count": 6,
   "id": "be158ced",
   "metadata": {},
   "outputs": [],
   "source": [
    "f=open('chatbot.txt', 'r', errors = 'ignore') #r is read mode\n",
    "plaintxt=f.read()\n",
    "plaintxt=plaintxt.lower() #converts to lowercase"
   ]
  },
  {
   "cell_type": "markdown",
   "id": "ae4caf66",
   "metadata": {},
   "source": [
    "The issue with the text data is that it is in strings format. Machine learning algorithms need some sort of numerial feature vector in order to perform the task. \n",
    "\n",
    "Hence, we need to pre-process it to make it ideal for working before starting with any NLP project. \n",
    "\n",
    "Basic text pre-processing includes:\n",
    "- converting the entire text into lowercase, so that algorithm does not treat the same words in different cases\n",
    "- tokenization: process of converting the normal text strings into a list of tokens (words that we want)\n",
    "  - sentence tokenizer, find the list of setences\n",
    "  - word tokenizer, find the list of words"
   ]
  },
  {
   "cell_type": "markdown",
   "id": "a946e720",
   "metadata": {},
   "source": [
    "NLTK data package includes a pre-trained tokenizer for English\n",
    "- Removing Noise, everything that isn't in a standard number or letter\n",
    "- Removing Stop words, some extremely common words which would appear to be of little value in helping select documents matching a user need are excluded from the vocabulary entirely\n",
    "- Stemming, process of reducing inflected (or sometimes derived) words to their stem, base or root form — generally a written word form. Example if we were to stem the following words: “Stems”, “Stemming”, “Stemmed”, “and Stemtization”, the result would be a single word “stem”.\n",
    "- Lemmatization, slight variant of stemming is lemmatization. The major difference between these is, that, stemming can often create non-existent words, whereas lemmas are actual words."
   ]
  },
  {
   "cell_type": "markdown",
   "id": "7ac502fd",
   "metadata": {},
   "source": [
    "## Tokenisation"
   ]
  },
  {
   "cell_type": "code",
   "execution_count": 7,
   "id": "1c8df4a8",
   "metadata": {},
   "outputs": [],
   "source": [
    "sentence_tokens = nltk.sent_tokenize(plaintxt) #converts to list of sentences\n",
    "word_tokens = nltk.word_tokenize(plaintxt) #converts to list of words"
   ]
  },
  {
   "cell_type": "markdown",
   "id": "df0224f9",
   "metadata": {},
   "source": [
    "## Pre-processing\n",
    "Define a function called LemTokens which will take as input the tokens and return normalized tokens."
   ]
  },
  {
   "cell_type": "code",
   "execution_count": 8,
   "id": "aff83f9f",
   "metadata": {},
   "outputs": [],
   "source": [
    "lemmer = nltk.stem.WordNetLemmatizer() #WordNet is a semantically-oriented dictionary of English included in NLTK.\n",
    "\n",
    "def LemTokens(tokens):\n",
    "    return [lemmer.lemmatize(token) for token in tokens]\n",
    "remove_punct_dict = dict((ord(punct), None) for punct in string.punctuation)\n",
    "\n",
    "def LemNormalize(text):\n",
    "    return LemTokens(nltk.word_tokenize(text.lower().translate(remove_punct_dict)))\n",
    "\n",
    "#Overall, these functions is to preprocess text by tokenizing, removing punctuation, converting to lowercase, and \n",
    "#lemmatizing tokens using NLTK'sWordNetLemmatizer."
   ]
  },
  {
   "cell_type": "markdown",
   "id": "1f91c228",
   "metadata": {},
   "source": [
    "## Keyword Matching\n",
    "\n",
    "Define a function for a greeting by the bot. If user's input is a greeting, the bot will return a greeting response."
   ]
  },
  {
   "cell_type": "code",
   "execution_count": 9,
   "id": "21acaee2",
   "metadata": {},
   "outputs": [],
   "source": [
    "greeting_inputs = (\"hello\", \"hi\", \"greetings\", \"hey\")\n",
    "greeting_responses = (\"hello\", \"hi\", \"hey\", \"hi there!\", \"hi, how may i help you?\")\n",
    "\n",
    "def greeting(sentence): #define fucntion, take sentence as input\n",
    "    for word in sentence.split(): #using .split() function to split the sentence into word\n",
    "        if word.lower() in greeting_inputs: #check if the lowercase version is present in the greeting inputs\n",
    "            return random.choice(greeting_responses) #if found, randomly select a response from the greeting responses"
   ]
  },
  {
   "cell_type": "markdown",
   "id": "1ea34cce",
   "metadata": {},
   "source": [
    "## Generating Response\n",
    "\n",
    "### Bag of Words\n",
    "After preprocessing, transform the text into a meaningful vector/array of numbers. Bag of words is a prepresentation of text that describes the occurrence of words within a document. It involves two things.\n",
    "- a vocabulary of known words\n",
    "- a measure of the presence of known words\n",
    "\n",
    "It is called a \"bag\" of words because any information about the order or structure of words in the document is discarded and the model is only concerned with whether the known words occur in the document, not where they occur in the document.\n",
    "\n",
    "### TF-IDF Aproach\n",
    "Problem with bag of words is that frequent words will start to dominate in the document but may not contain as much \"information content\".\n",
    "\n",
    "One of the approach is rescale the frequency of words by how often they appear in all documents so that the scores for frequent words across all documents are penalized. This approach to scoring is called Term Frequency-Inverse Document Frequency(TF-IDF).\n",
    "\n",
    "\n",
    "\n",
    "To generate a response from our bot for input questions, the concept of document similarity will be used. Define a function response which searches the user's utterance for once or more known keywords and returns one of several possible responses. If doesn't find the input matching any of the keywords, it will return a response."
   ]
  },
  {
   "cell_type": "code",
   "execution_count": 10,
   "id": "8fa48a0a",
   "metadata": {},
   "outputs": [],
   "source": [
    "def response(user_response):\n",
    "    robo_response=''\n",
    "    sent_tokens.append(user_response)\n",
    "    TfidfVec = TfidVectorizer(tokenizer=LemNormalize, stop_words='english')\n",
    "    tfidf = TfidfVec.fit_transform(sent_tokens)\n",
    "    vals = cosine_similarity(tfidf[-1], tfidf)\n",
    "    idx=vals.argsort()[0][-2]\n",
    "    flat = vals.flatten()\n",
    "    flat.sort()\n",
    "    req_tfidf = flat[-2]\n",
    "    if(req_tfidf==0):\n",
    "        robo_response=robo_response+\"I am sorry! I don't understand you\"\n",
    "        return robo_response\n",
    "    else:\n",
    "        robo_response = robo_response+sent_tokens[idx]\n",
    "        return robo_response"
   ]
  },
  {
   "cell_type": "markdown",
   "id": "9418ddb9",
   "metadata": {},
   "source": [
    "We will feed the lines that we want our bot to say while starting and ending a conversation depending upon user's input."
   ]
  },
  {
   "cell_type": "code",
   "execution_count": 11,
   "id": "87f1d0a1",
   "metadata": {},
   "outputs": [
    {
     "name": "stdout",
     "output_type": "stream",
     "text": [
      "ROBOT: Hi, my name is ROBOT. I will answer your queries about ChatBots. When you want to exit, input Bye.\n",
      "hi\n",
      "ROBOT: hey\n",
      "hi\n",
      "ROBOT: hi, how may i help you?\n",
      "bye\n",
      "ROBOT: Bye, have a nice day!\n"
     ]
    }
   ],
   "source": [
    "flag = True\n",
    "print(\"ROBOT: Hi, my name is ROBOT. I will answer your queries about ChatBots. When you want to exit, input Bye.\")\n",
    "while(flag==True):\n",
    "    user_response = input()\n",
    "    user_response = user_response.lower()\n",
    "    if(user_response != 'bye'):\n",
    "        if(user_response=='thanks' or user_response=='thank you'):\n",
    "            flag = False \n",
    "            print(\"ROBOT: You're Welcome!\")\n",
    "        else:\n",
    "            if(greeting(user_response)!=None):\n",
    "                print(\"ROBOT: \" + greeting(user_response))\n",
    "            else:\n",
    "                print(\"ROBOT: \", end=\"\")\n",
    "                print(response(user_response))\n",
    "                sent_tokens.remove(user_response)\n",
    "    else:\n",
    "        flag=False\n",
    "        print(\"ROBOT: Bye, have a nice day!\")"
   ]
  }
 ],
 "metadata": {
  "kernelspec": {
   "display_name": "Python 3 (ipykernel)",
   "language": "python",
   "name": "python3"
  },
  "language_info": {
   "codemirror_mode": {
    "name": "ipython",
    "version": 3
   },
   "file_extension": ".py",
   "mimetype": "text/x-python",
   "name": "python",
   "nbconvert_exporter": "python",
   "pygments_lexer": "ipython3",
   "version": "3.11.5"
  }
 },
 "nbformat": 4,
 "nbformat_minor": 5
}
